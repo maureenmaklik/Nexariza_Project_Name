{
 "cells": [
  {
   "cell_type": "code",
   "execution_count": 24,
   "id": "b56987de-3f41-49eb-8792-d4345bc88e3e",
   "metadata": {},
   "outputs": [],
   "source": [
    "import os\n",
    "import shutil"
   ]
  },
  {
   "cell_type": "code",
   "execution_count": 26,
   "id": "fe75ff6e-f6ec-45cf-8213-263d949888f5",
   "metadata": {},
   "outputs": [
    {
     "name": "stdout",
     "output_type": "stream",
     "text": [
      "Moved 2-title (1).png to C:\\Users\\Naureen\\OneDrive\\Desktop\\Images\n",
      "Moved 2-title.png to C:\\Users\\Naureen\\OneDrive\\Desktop\\Images\n",
      "Moved 316e08e75cf9b31424dea0b27633339f.jpg to C:\\Users\\Naureen\\OneDrive\\Desktop\\Images\n",
      "Moved 460591465_3765609483653678_8398877117589380712_n.jpg to C:\\Users\\Naureen\\OneDrive\\Desktop\\Images\n",
      "Moved Course Plan ML-Fall 2022.pdf to C:\\Users\\Naureen\\OneDrive\\Desktop\\PDFs\n",
      "Moved do-data-analysis-and-economic-and-statistical-analysis (1).png to C:\\Users\\Naureen\\OneDrive\\Desktop\\Images\n",
      "Moved do-data-analysis-and-economic-and-statistical-analysis.png to C:\\Users\\Naureen\\OneDrive\\Desktop\\Images\n",
      "Moved Doc1 (1).docx to C:\\Users\\Naureen\\OneDrive\\Desktop\\Documents\n",
      "Moved Doc1.docx to C:\\Users\\Naureen\\OneDrive\\Desktop\\Documents\n",
      "Moved firm level economics markets and allocations.pdf2.pdf to C:\\Users\\Naureen\\OneDrive\\Desktop\\PDFs\n",
      "Moved form.pdf to C:\\Users\\Naureen\\OneDrive\\Desktop\\PDFs\n",
      "Moved form2.pdf to C:\\Users\\Naureen\\OneDrive\\Desktop\\PDFs\n",
      "Moved form_backup.pdf to C:\\Users\\Naureen\\OneDrive\\Desktop\\PDFs\n",
      "Moved Gensco_Tech_Support_Quickform.pdf to C:\\Users\\Naureen\\OneDrive\\Desktop\\PDFs\n",
      "Moved main-qimg-6087eff956c8abbf119b5d5b33811ff5.jpg to C:\\Users\\Naureen\\OneDrive\\Desktop\\Images\n",
      "Moved Screenshot (163).png to C:\\Users\\Naureen\\OneDrive\\Desktop\\Images\n",
      "Moved Screenshot (165).png to C:\\Users\\Naureen\\OneDrive\\Desktop\\Images\n",
      "Moved starf.pdf to C:\\Users\\Naureen\\OneDrive\\Desktop\\PDFs\n",
      "Moved thumbnail-description-a-confident-young-man-holding-a-stack-of-cash-i-pKiZmN88V4-watermarked.png to C:\\Users\\Naureen\\OneDrive\\Desktop\\Images\n",
      "Moved Visual Insights.docx to C:\\Users\\Naureen\\OneDrive\\Desktop\\Documents\n"
     ]
    }
   ],
   "source": [
    "import os\n",
    "import shutil\n",
    "\n",
    "# Path to your Desktop (adjust this according to your system)\n",
    "source_folder = r'C:\\Users\\Naureen\\OneDrive\\Desktop'  # Set this to your actual desktop path\n",
    "\n",
    "# Destination folders on your Desktop\n",
    "file_type_folders = {\n",
    "    'pdf': r'C:\\Users\\Naureen\\OneDrive\\Desktop\\PDFs',\n",
    "    'jpg': r'C:\\Users\\Naureen\\OneDrive\\Desktop\\Images',\n",
    "    'png': r'C:\\Users\\Naureen\\OneDrive\\Desktop\\Images',\n",
    "    'txt': r'C:\\Users\\Naureen\\OneDrive\\Desktop\\TextFiles',\n",
    "    'docx': r'C:\\Users\\Naureen\\OneDrive\\Desktop\\Documents',\n",
    "}\n",
    "\n",
    "# Create folders if they do not exist\n",
    "for folder in file_type_folders.values():\n",
    "    if not os.path.exists(folder):\n",
    "        os.makedirs(folder)\n",
    "\n",
    "# Organize files\n",
    "for filename in os.listdir(source_folder):\n",
    "    # Ensure it's a file (not a folder)\n",
    "    if os.path.isfile(os.path.join(source_folder, filename)):\n",
    "        file_extension = filename.split('.')[-1].lower()\n",
    "        if file_extension in file_type_folders:\n",
    "            src_path = os.path.join(source_folder, filename)\n",
    "            dest_path = os.path.join(file_type_folders[file_extension], filename)\n",
    "            shutil.move(src_path, dest_path)\n",
    "            print(f'Moved {filename} to {file_type_folders[file_extension]}')\n"
   ]
  },
  {
   "cell_type": "code",
   "execution_count": null,
   "id": "a824d5b0-fbfe-4849-bd34-cabb02d5fa4a",
   "metadata": {},
   "outputs": [],
   "source": []
  }
 ],
 "metadata": {
  "kernelspec": {
   "display_name": "Python 3 (ipykernel)",
   "language": "python",
   "name": "python3"
  },
  "language_info": {
   "codemirror_mode": {
    "name": "ipython",
    "version": 3
   },
   "file_extension": ".py",
   "mimetype": "text/x-python",
   "name": "python",
   "nbconvert_exporter": "python",
   "pygments_lexer": "ipython3",
   "version": "3.12.4"
  }
 },
 "nbformat": 4,
 "nbformat_minor": 5
}
